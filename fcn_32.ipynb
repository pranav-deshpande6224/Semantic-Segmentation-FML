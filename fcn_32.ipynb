{
  "nbformat": 4,
  "nbformat_minor": 0,
  "metadata": {
    "colab": {
      "provenance": []
    },
    "kernelspec": {
      "name": "python3",
      "display_name": "Python 3"
    },
    "language_info": {
      "name": "python"
    }
  },
  "cells": [
    {
      "cell_type": "code",
      "execution_count": null,
      "metadata": {
        "id": "AyzJ7ASWyc1v"
      },
      "outputs": [],
      "source": [
        "# First install this Package(keras_segmentation)\n",
        "pip install keras_segementation\n",
        "\n",
        "# Downloading the existing dataset(CityScape Dataset)\n",
        "! wget https://github.com/divamgupta/datasets/releases/download/seg/dataset1.zip && unzip dataset1.zip"
      ]
    },
    {
      "cell_type": "code",
      "source": [
        "\n",
        "from keras_segmentation.models.fcn import fcn_32\n",
        "from IPython.display import Image\n",
        "import matplotlib\n",
        "import matplotlib.pyplot as plt\n",
        "\n",
        "TRAIN_IMAGES_PATH = \"dataset1/images_prepped_train/\"\n",
        "TRAIN_ANNOTATIONS_PATH = \"dataset1/annotations_prepped_train/\"\n",
        "TEST_IMAGE_PATH = \"dataset1/images_prepped_test/0016E5_07965.png\"\n",
        "CHECKPOINT_PATH = \"/tmp/fcn_32_1\"\n",
        "OUT_IMAGE_PATH = \"/content/output/out.png\"\n",
        "N_CLASSES = 50\n",
        "INPUT_HEIGHT = 320\n",
        "INPUT_WIDTH = 640\n",
        "EPOCHS = 1\n",
        "\n",
        "model = fcn_32(n_classes=N_CLASSES, input_height=INPUT_HEIGHT, input_width=INPUT_WIDTH)\n",
        "model.train(\n",
        "    train_images=TRAIN_IMAGES_PATH,\n",
        "    train_annotations=TRAIN_ANNOTATIONS_PATH,\n",
        "    checkpoints_path=CHECKPOINT_PATH,\n",
        "    epochs=EPOCHS\n",
        ")\n",
        "out = model.predict_segmentation(inp=TEST_IMAGE_PATH, out_fname=OUT_IMAGE_PATH)\n",
        "plt.imshow(out)\n",
        "plt.show()\n",
        "o = model.predict_segmentation(\n",
        "    inp=TEST_IMAGE_PATH,\n",
        "    out_fname=OUT_IMAGE_PATH,\n",
        "    overlay_img=True,\n",
        "    show_legends=True,\n",
        "    class_names=[\"Sky\", \"Building\", \"Pole\", \"Road\", \"Pavement\", \"Tree\", \"SignSymbol\", \"Fence\", \"Car\", \"Pedestrian\", \"Bicyclist\"]\n",
        ")\n",
        "Image(OUT_IMAGE_PATH)"
      ],
      "metadata": {
        "id": "OzQJiRXsyjyB"
      },
      "execution_count": null,
      "outputs": []
    },
    {
      "cell_type": "code",
      "source": [],
      "metadata": {
        "id": "-oYh-4Mgyn0T"
      },
      "execution_count": null,
      "outputs": []
    }
  ]
}