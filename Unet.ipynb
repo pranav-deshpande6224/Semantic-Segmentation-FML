{
  "nbformat": 4,
  "nbformat_minor": 0,
  "metadata": {
    "colab": {
      "provenance": [],
      "gpuType": "T4"
    },
    "kernelspec": {
      "name": "python3",
      "display_name": "Python 3"
    },
    "language_info": {
      "name": "python"
    },
    "accelerator": "GPU"
  },
  "cells": [
    {
      "cell_type": "code",
      "execution_count": null,
      "metadata": {
        "id": "MIzU69hOyB1q"
      },
      "outputs": [],
      "source": [
        "pip install keras_segmentation  # First install this Package(keras_segmentation)"
      ]
    },
    {
      "cell_type": "code",
      "source": [
        "# Downloading the existing dataset(CityScape Dataset)\n",
        "! wget https://github.com/divamgupta/datasets/releases/download/seg/dataset1.zip && unzip dataset1.zip"
      ],
      "metadata": {
        "id": "3QpcfmZvzvYB"
      },
      "execution_count": null,
      "outputs": []
    },
    {
      "cell_type": "code",
      "source": [
        "\n",
        "from keras_segmentation.models.unet import unet\n",
        "from IPython.display import Image\n",
        "import matplotlib\n",
        "import matplotlib.pyplot as plt\n",
        "\n",
        "# In OUT_IMAGE_PATH First create the Folder in the Colab or Jupyter and provide the path to that Variable(OUT_IMAGE_PATH)\n",
        "TRAIN_IMAGES_PATH = \"dataset1/images_prepped_train/\"\n",
        "TRAIN_ANNOTATIONS_PATH = \"dataset1/annotations_prepped_train/\"\n",
        "TEST_IMAGE_PATH = \"dataset1/images_prepped_test/0016E5_07965.png\"\n",
        "CHECKPOINT_PATH = \"/tmp/vgg_unet_1\"\n",
        "OUT_IMAGE_PATH = \"/content/output/out.png\"\n",
        "N_CLASSES = 50\n",
        "INPUT_HEIGHT = 320\n",
        "INPUT_WIDTH = 640\n",
        "EPOCHS = 1\n",
        "\n",
        "model = unet(n_classes=N_CLASSES, input_height=INPUT_HEIGHT, input_width=INPUT_WIDTH)\n",
        "model.train(\n",
        "    train_images=TRAIN_IMAGES_PATH,\n",
        "    train_annotations=TRAIN_ANNOTATIONS_PATH,\n",
        "    checkpoints_path=CHECKPOINT_PATH,\n",
        "    epochs=EPOCHS\n",
        ")\n",
        "out = model.predict_segmentation(inp=TEST_IMAGE_PATH, out_fname=OUT_IMAGE_PATH)\n",
        "plt.imshow(out)\n",
        "plt.show()\n",
        "o = model.predict_segmentation(\n",
        "    inp=TEST_IMAGE_PATH,\n",
        "    out_fname=OUT_IMAGE_PATH,\n",
        "    overlay_img=True,\n",
        "    show_legends=True,\n",
        "    class_names=[\"Sky\", \"Building\", \"Pole\", \"Road\", \"Pavement\", \"Tree\", \"SignSymbol\", \"Fence\", \"Car\", \"Pedestrian\", \"Bicyclist\"]\n",
        ")\n",
        "Image(OUT_IMAGE_PATH)"
      ],
      "metadata": {
        "id": "vITAipp6yFVA"
      },
      "execution_count": null,
      "outputs": []
    },
    {
      "cell_type": "code",
      "source": [],
      "metadata": {
        "id": "i5kX6X9N2KtN"
      },
      "execution_count": null,
      "outputs": []
    }
  ]
}